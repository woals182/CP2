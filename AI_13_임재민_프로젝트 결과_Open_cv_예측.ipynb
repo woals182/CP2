{
  "cells": [
    {
      "cell_type": "markdown",
      "source": [
        "#Youtube에서 동영상 추출하기"
      ],
      "metadata": {
        "id": "TilbJMSoyi62"
      }
    },
    {
      "cell_type": "code",
      "execution_count": null,
      "metadata": {
        "colab": {
          "base_uri": "https://localhost:8080/"
        },
        "id": "8nFfg8-C9VCy",
        "outputId": "bb5d1a20-abbf-44b4-decc-2159a7606aa0"
      },
      "outputs": [
        {
          "output_type": "stream",
          "name": "stdout",
          "text": [
            "Looking in indexes: https://pypi.org/simple, https://us-python.pkg.dev/colab-wheels/public/simple/\n",
            "Collecting pytube\n",
            "  Downloading pytube-12.1.0-py3-none-any.whl (56 kB)\n",
            "\u001b[K     |████████████████████████████████| 56 kB 2.8 MB/s \n",
            "\u001b[?25hInstalling collected packages: pytube\n",
            "Successfully installed pytube-12.1.0\n"
          ]
        }
      ],
      "source": [
        "!pip install pytube"
      ]
    },
    {
      "cell_type": "code",
      "execution_count": null,
      "metadata": {
        "id": "dJx_Tb7-9Tm0"
      },
      "outputs": [],
      "source": [
        "# ! pip install pytube\n",
        "from pytube import YouTube "
      ]
    },
    {
      "cell_type": "code",
      "execution_count": null,
      "metadata": {
        "id": "mcWNe7E5EXhy"
      },
      "outputs": [],
      "source": [
        "\n",
        "DOWNLOAD_FOLDER = \"/content/gdrive/MyDrive/youtube\"\n",
        "\n",
        "link = \"https://www.youtube.com/watch?v=wFEBcuU4zaw&t=101s\"  # 1080p\n",
        "#link = \"https://www.youtube.com/watch?v=wZh4sZ-QjHc\"  # 4K\n",
        "yt = YouTube(link)  "
      ]
    },
    {
      "cell_type": "code",
      "execution_count": null,
      "metadata": {
        "colab": {
          "base_uri": "https://localhost:8080/"
        },
        "id": "h9UfUQy1FMoj",
        "outputId": "1482b53e-e368-4e16-8b96-0bf71748460f"
      },
      "outputs": [
        {
          "output_type": "stream",
          "name": "stdout",
          "text": [
            "<Stream: itag=\"18\" mime_type=\"video/mp4\" res=\"360p\" fps=\"30fps\" vcodec=\"avc1.42001E\" acodec=\"mp4a.40.2\" progressive=\"True\" type=\"video\">\n",
            "<Stream: itag=\"22\" mime_type=\"video/mp4\" res=\"720p\" fps=\"30fps\" vcodec=\"avc1.64001F\" acodec=\"mp4a.40.2\" progressive=\"True\" type=\"video\">\n",
            "<Stream: itag=\"136\" mime_type=\"video/mp4\" res=\"720p\" fps=\"30fps\" vcodec=\"avc1.4d401f\" progressive=\"False\" type=\"video\">\n",
            "<Stream: itag=\"135\" mime_type=\"video/mp4\" res=\"480p\" fps=\"30fps\" vcodec=\"avc1.4d401f\" progressive=\"False\" type=\"video\">\n",
            "<Stream: itag=\"134\" mime_type=\"video/mp4\" res=\"360p\" fps=\"30fps\" vcodec=\"avc1.4d401e\" progressive=\"False\" type=\"video\">\n",
            "<Stream: itag=\"133\" mime_type=\"video/mp4\" res=\"240p\" fps=\"30fps\" vcodec=\"avc1.4d4015\" progressive=\"False\" type=\"video\">\n",
            "<Stream: itag=\"160\" mime_type=\"video/mp4\" res=\"144p\" fps=\"30fps\" vcodec=\"avc1.4d400c\" progressive=\"False\" type=\"video\">\n",
            "<Stream: itag=\"139\" mime_type=\"audio/mp4\" abr=\"48kbps\" acodec=\"mp4a.40.5\" progressive=\"False\" type=\"audio\">\n",
            "<Stream: itag=\"140\" mime_type=\"audio/mp4\" abr=\"128kbps\" acodec=\"mp4a.40.2\" progressive=\"False\" type=\"audio\">\n"
          ]
        },
        {
          "output_type": "stream",
          "name": "stderr",
          "text": [
            "/usr/local/lib/python3.7/dist-packages/ipykernel_launcher.py:1: DeprecationWarning: Call to deprecated function all (This object can be treated as a list, all() is useless).\n",
            "  \"\"\"Entry point for launching an IPython kernel.\n"
          ]
        }
      ],
      "source": [
        "for e in yt.streams.filter(file_extension='mp4').all():\n",
        "  print(e)"
      ]
    },
    {
      "cell_type": "code",
      "execution_count": null,
      "metadata": {
        "id": "6wZCz2yrF0oA"
      },
      "outputs": [],
      "source": [
        "yt.streams.filter(progressive=False, file_extension='mp4').order_by('resolution').desc().first().download(DOWNLOAD_FOLDER)"
      ]
    },
    {
      "cell_type": "markdown",
      "source": [
        "#Open cv로 예측하기"
      ],
      "metadata": {
        "id": "C0lV1wBpym4C"
      }
    },
    {
      "cell_type": "code",
      "source": [
        "from google.colab import drive\n",
        "drive.mount('/content/gdrive')"
      ],
      "metadata": {
        "colab": {
          "base_uri": "https://localhost:8080/"
        },
        "id": "WJnn7LYgy9xM",
        "outputId": "b4ee9fee-f41d-4aef-c642-4029d6d6a9d6"
      },
      "execution_count": null,
      "outputs": [
        {
          "output_type": "stream",
          "name": "stdout",
          "text": [
            "Mounted at /content/gdrive\n"
          ]
        }
      ]
    },
    {
      "cell_type": "code",
      "execution_count": null,
      "metadata": {
        "id": "neYmiI3CF3gw"
      },
      "outputs": [],
      "source": [
        "import numpy as np\n",
        "import cv2\n",
        "import matplotlib.pyplot as plt\n",
        "import glob\n",
        "import random\n",
        "from google.colab.patches import cv2_imshow\n",
        "import json\n",
        "import os\n",
        "\n",
        "\n",
        "import time # -- 프레임 계산을 위해 사용"
      ]
    },
    {
      "cell_type": "code",
      "execution_count": null,
      "metadata": {
        "colab": {
          "base_uri": "https://localhost:8080/"
        },
        "id": "BhwNP2MkPOft",
        "outputId": "1ae18089-f81b-4f03-af01-bf475dfae6bb"
      },
      "outputs": [
        {
          "output_type": "stream",
          "name": "stdout",
          "text": [
            "/content/gdrive/MyDrive/yolov4\n"
          ]
        }
      ],
      "source": [
        "# 설치되어 있는 opencv 제거\n",
        "!pip uninstall opencv-python\n",
        "# 빌드한 OpenCV가 있는 경로로 이동\n",
        "%cd /content/gdrive/MyDrive/yolov4\n",
        "# 빌드한 모델 설치\n",
        "# Proceed (y/n)? 클릭하고 y 입력해야 한다.\n",
        "!cp cv2.cpython-37m-x86_64-linux-gnu.so /usr/local/lib/python3.7/dist-packages"
      ]
    },
    {
      "cell_type": "code",
      "execution_count": null,
      "metadata": {
        "colab": {
          "base_uri": "https://localhost:8080/",
          "height": 193
        },
        "id": "3EP695ouPOZm",
        "outputId": "a7a5e42e-0a1e-429a-e16e-bf421fb74b47"
      },
      "outputs": [
        {
          "output_type": "error",
          "ename": "NameError",
          "evalue": "ignored",
          "traceback": [
            "\u001b[0;31m---------------------------------------------------------------------------\u001b[0m",
            "\u001b[0;31mNameError\u001b[0m                                 Traceback (most recent call last)",
            "\u001b[0;32m<ipython-input-17-cad23a6e9ea1>\u001b[0m in \u001b[0;36m<module>\u001b[0;34m\u001b[0m\n\u001b[0;32m----> 1\u001b[0;31m \u001b[0mprint\u001b[0m\u001b[0;34m(\u001b[0m\u001b[0mcv2\u001b[0m\u001b[0;34m.\u001b[0m\u001b[0m__version__\u001b[0m\u001b[0;34m)\u001b[0m\u001b[0;34m\u001b[0m\u001b[0;34m\u001b[0m\u001b[0m\n\u001b[0m\u001b[1;32m      2\u001b[0m \u001b[0mprint\u001b[0m\u001b[0;34m(\u001b[0m\u001b[0mcv2\u001b[0m\u001b[0;34m.\u001b[0m\u001b[0mcuda\u001b[0m\u001b[0;34m.\u001b[0m\u001b[0mgetCudaEnabledDeviceCount\u001b[0m\u001b[0;34m(\u001b[0m\u001b[0;34m)\u001b[0m\u001b[0;34m)\u001b[0m\u001b[0;34m\u001b[0m\u001b[0;34m\u001b[0m\u001b[0m\n",
            "\u001b[0;31mNameError\u001b[0m: name 'cv2' is not defined"
          ]
        }
      ],
      "source": [
        "print(cv2.__version__)\n",
        "print(cv2.cuda.getCudaEnabledDeviceCount())"
      ]
    },
    {
      "cell_type": "code",
      "execution_count": null,
      "metadata": {
        "colab": {
          "base_uri": "https://localhost:8080/"
        },
        "id": "JECBN6p_QBTN",
        "outputId": "1e81902a-73e4-4879-e23e-ee8e72654c9e"
      },
      "outputs": [
        {
          "output_type": "stream",
          "name": "stdout",
          "text": [
            "Reading package lists... Done\n",
            "Building dependency tree       \n",
            "Reading state information... Done\n",
            "pkg-config is already the newest version (0.29.1-0ubuntu2).\n",
            "0 upgraded, 0 newly installed, 0 to remove and 12 not upgraded.\n",
            "Reading package lists... Done\n",
            "Building dependency tree       \n",
            "Reading state information... Done\n",
            "libgtk2.0-dev is already the newest version (2.24.32-1ubuntu1).\n",
            "0 upgraded, 0 newly installed, 0 to remove and 12 not upgraded.\n"
          ]
        }
      ],
      "source": [
        "!sudo apt-get install pkg-config\n",
        "!sudo apt-get install libgtk2.0-dev"
      ]
    },
    {
      "cell_type": "code",
      "execution_count": null,
      "metadata": {
        "id": "JIoU5jXXQyj-",
        "colab": {
          "base_uri": "https://localhost:8080/"
        },
        "outputId": "6b5d3eff-047a-4361-f4de-65f9cf05b2b4"
      },
      "outputs": [
        {
          "output_type": "stream",
          "name": "stdout",
          "text": [
            "Could not Open : /content/drive/MyDrive/youtube/🇨🇵자전거타고 독일에서 프랑스 국경넘기 I 스트라스부르 자전거 라이딩.mp4\n"
          ]
        }
      ],
      "source": [
        "filepath = '/content/drive/MyDrive/youtube/🇨🇵자전거타고 독일에서 프랑스 국경넘기 I 스트라스부르 자전거 라이딩.mp4'\n",
        "video = cv2.VideoCapture(filepath) #'' 사이에 사용할 비디오 파일의 경로 및 이름을 넣어주도록 함\n",
        "\n",
        "if not video.isOpened():\n",
        "    print(\"Could not Open :\", filepath)\n",
        "    exit(0)"
      ]
    },
    {
      "cell_type": "code",
      "execution_count": null,
      "metadata": {
        "colab": {
          "base_uri": "https://localhost:8080/"
        },
        "id": "2lO4jZOrRBlo",
        "outputId": "207194cc-5cc4-4cae-dbf3-56e91d52221f"
      },
      "outputs": [
        {
          "output_type": "stream",
          "name": "stdout",
          "text": [
            "length : 12677\n",
            "width : 1280\n",
            "height : 720\n",
            "fps : 30.0\n"
          ]
        }
      ],
      "source": [
        "#불러온 비디오 파일의 정보 출력\n",
        "length = int(video.get(cv2.CAP_PROP_FRAME_COUNT))\n",
        "width = int(video.get(cv2.CAP_PROP_FRAME_WIDTH))\n",
        "height = int(video.get(cv2.CAP_PROP_FRAME_HEIGHT))\n",
        "fps = video.get(cv2.CAP_PROP_FPS)\n",
        "\n",
        "print(\"length :\", length)\n",
        "print(\"width :\", width)\n",
        "print(\"height :\", height)\n",
        "print(\"fps :\", fps)"
      ]
    },
    {
      "cell_type": "code",
      "execution_count": null,
      "metadata": {
        "id": "LEhu-KVuRBjP"
      },
      "outputs": [],
      "source": [
        "#프레임을 저장할 디렉토리를 생성\n",
        "try:\n",
        "    if not os.path.exists(filepath[:-4]):\n",
        "        os.makedirs(filepath[:-4])\n",
        "except OSError:\n",
        "    print ('Error: Creating directory. ' +  filepath[:-4])"
      ]
    },
    {
      "cell_type": "code",
      "execution_count": null,
      "metadata": {
        "id": "VWSaXGkfRBgu"
      },
      "outputs": [],
      "source": [
        "count = 0\n",
        "\n",
        "#앞서 불러온 fps 값을 사용하여 num 프레임 마다 추출\n",
        "num = 7\n",
        "while(count != (length//num)):\n",
        "    ret, image = video.read()\n",
        "    if(int(video.get(1)) % num == 0): \n",
        "        cv2.imwrite(filepath[:-4] + \"/frame%d.jpg\" % count, image)\n",
        "        print('Saved frame number :', str(int(video.get(1))))\n",
        "        count += 1\n",
        "video.release()"
      ]
    },
    {
      "cell_type": "markdown",
      "source": [
        "#저장된 동영상 프레임에서 예측하기"
      ],
      "metadata": {
        "id": "M7XV_viyyh18"
      }
    },
    {
      "cell_type": "code",
      "source": [
        "!pwd"
      ],
      "metadata": {
        "id": "J5K2Irh6yhjy",
        "colab": {
          "base_uri": "https://localhost:8080/"
        },
        "outputId": "26eb5bba-66fb-444d-a8f4-516c18a6ad26"
      },
      "execution_count": null,
      "outputs": [
        {
          "output_type": "stream",
          "name": "stdout",
          "text": [
            "/content\n"
          ]
        }
      ]
    },
    {
      "cell_type": "code",
      "execution_count": null,
      "metadata": {
        "id": "KE5-MndvRBd5"
      },
      "outputs": [],
      "source": [
        "# colab에 저장할 파일 만들고 싶은 경우\n",
        "!mkdir video_pred"
      ]
    },
    {
      "cell_type": "code",
      "source": [
        "# Yolo 로드\n",
        "net = cv2.dnn.readNet(\"/content/gdrive/MyDrive/yolov4/training/yolov4-motorcycle_helmet_best.weights\", \"/content/gdrive/MyDrive/yolov4/train_motorcycle_helmet/yolov4-motorcycle_helmet.cfg\")\n",
        "net.setPreferableBackend(cv2.dnn.DNN_BACKEND_CUDA)\n",
        "net.setPreferableTarget(cv2.dnn.DNN_TARGET_CUDA_FP16)\n",
        "\n",
        "classes = []\n",
        "with open(\"/content/gdrive/MyDrive/yolov4/train_motorcycle_helmet/motorcycle_helmet.names\", \"r\") as f:\n",
        "    classes = [line.strip() for line in f.readlines()]\n",
        "\n",
        "layer_names = net.getLayerNames()\n",
        "output_layers = [layer_names[i - 1] for i in net.getUnconnectedOutLayers()]"
      ],
      "metadata": {
        "id": "l0aUmtcI5gWx"
      },
      "execution_count": null,
      "outputs": []
    },
    {
      "cell_type": "markdown",
      "source": [
        "예측 코드"
      ],
      "metadata": {
        "id": "O2g6sJbW5v2x"
      }
    },
    {
      "cell_type": "code",
      "source": [
        "def predict_yolo(img_path):\n",
        "  global counter\n",
        "  tm = cv2.TickMeter()\n",
        "\n",
        "  # 작동하는 시간을 측정하려고 함\n",
        "  tm.reset()\n",
        "  tm.start()\n",
        "  t1 = time.time()\n",
        "\n",
        "  # 이미지 가져오기\n",
        "  img = cv2.imread(img_path)\n",
        "  # img = cv2.cvtColor(img, cv2.COLOR_BGR2RGB)\n",
        "  height, width, channels = img.shape\n",
        "\n",
        "  blob = cv2.dnn.blobFromImage(img, 1/256, (416, 416), (0, 0, 0), swapRB=True, crop=False)\n",
        "  net.setInput(blob) \n",
        "  outs = net.forward(output_layers)\n",
        "\n",
        "  class_ids = []\n",
        "  confidences = []\n",
        "  boxes = []\n",
        "\n",
        "  for out in outs:\n",
        "      for detection in out:\n",
        "          scores = detection[5:]\n",
        "          class_id = np.argmax(scores)\n",
        "          confidence = scores[class_id]\n",
        "\n",
        "          if confidence > 0.5:\n",
        "              # Object detected\n",
        "              center_x = int(detection[0] * width)\n",
        "              center_y = int(detection[1] * height)\n",
        "              w = int(detection[2] * width)\n",
        "              h = int(detection[3] * height)\n",
        "              # 좌표\n",
        "              x = int(center_x - w / 2)\n",
        "              y = int(center_y - h / 2)\n",
        "\n",
        "              boxes.append([x, y, w, h])\n",
        "              confidences.append(float(confidence))\n",
        "              class_ids.append(class_id)\n",
        "  #노이즈 제거\n",
        "  indexes = cv2.dnn.NMSBoxes(boxes, confidences, 0.5, 0.4)\n",
        "\n",
        "  font = cv2.FONT_HERSHEY_PLAIN\n",
        "  colors = np.random.uniform(0, 255, size=(len(boxes), 3))\n",
        "  if len(indexes) > 0:\n",
        "    for i in indexes:\n",
        "        x, y, w, h = boxes[i]\n",
        "        \n",
        "        if x<0:\n",
        "            x=0\n",
        "        if y<0:\n",
        "            y=0\n",
        "        \n",
        "        # counter += 1\n",
        "        # print(x, y, w, h, counter)\n",
        "        # cropped = img[y:y+h, x:x+w].copy()\n",
        "        # cropped = cv2.resize(cropped, dsize=(0, 0), fx=3.0, fy=3.0, interpolation=cv2.INTER_LANCZOS4)\n",
        "        cropped = img.copy()\n",
        "        label = str(classes[class_ids[i]])\n",
        "        color = colors[i]\n",
        "        # 프레임에 사각형 테두리 그리기 및 텍스트 쓰기\n",
        "        cv2.rectangle(frame_drawn, (x, y), (x + w, y + h), color, 2)\n",
        "        cv2.rectangle(frame_drawn, (x - 1, y), (x + len(class_name) * 13 + 80, y - 25), color, -1)\n",
        "        cv2.putText(frame_drawn, label, (x, y - 8), cv2.FONT_HERSHEY_COMPLEX_SMALL, 1, (255, 255, 255), 2)\n",
        "\n",
        "\n",
        "        # 예측결과 저장\n",
        "        cv2.imwrite(f'/content/gdrive/MyDrive/yolov4/train_motorcycle_helmet/prediction/pred_img{counter}.jpg',cropped)\n",
        "        \n",
        "        tm.stop()\n",
        "        ms = tm.getTimeMilli() # 밀리 초 단위 시간을 받아옴\n",
        "        print('Elapsed time: {}ms.'.format(tm.getTimeMilli()))\n",
        "  \n",
        "  else:\n",
        "    print('탐지된 물체가 없습니다.')\n",
        "    tm.stop()"
      ],
      "metadata": {
        "id": "cwYaRwVP5xuG"
      },
      "execution_count": null,
      "outputs": []
    },
    {
      "cell_type": "code",
      "source": [
        "paths = glob.glob('/content/gdrive/MyDrive/yolov4/train_motorcycle_helmet/test_data_nohelmet/*.jpg')\n",
        "\n",
        "counter = 0\n",
        "\n",
        "for i in paths:\n",
        "  net.setPreferableBackend(cv2.dnn.DNN_BACKEND_CUDA)\n",
        "  net.setPreferableTarget(cv2.dnn.DNN_TARGET_CUDA_FP16)\n",
        "  predict_yolo(i)"
      ],
      "metadata": {
        "colab": {
          "base_uri": "https://localhost:8080/"
        },
        "id": "ET58IyA-5xaB",
        "outputId": "458f044b-98e3-44a1-a7e1-9f768de76c64"
      },
      "execution_count": null,
      "outputs": [
        {
          "output_type": "stream",
          "name": "stdout",
          "text": [
            "Elapsed time: 1573.373194ms.\n",
            "Elapsed time: 1590.980272ms.\n",
            "Elapsed time: 1577.871912ms.\n",
            "Elapsed time: 1577.871912ms.\n",
            "Elapsed time: 1553.986928ms.\n",
            "Elapsed time: 1793.6879370000001ms.\n",
            "Elapsed time: 1727.54982ms.\n",
            "Elapsed time: 1727.54982ms.\n",
            "Elapsed time: 1577.3491980000001ms.\n",
            "Elapsed time: 1577.3491980000001ms.\n",
            "탐지된 물체가 없습니다.\n",
            "탐지된 물체가 없습니다.\n",
            "탐지된 물체가 없습니다.\n",
            "Elapsed time: 1554.8630480000002ms.\n",
            "Elapsed time: 1549.78726ms.\n",
            "Elapsed time: 1575.8370020000002ms.\n",
            "Elapsed time: 1558.37895ms.\n",
            "Elapsed time: 1534.380284ms.\n",
            "Elapsed time: 1537.499985ms.\n",
            "Elapsed time: 1537.499985ms.\n",
            "Elapsed time: 1551.9927790000002ms.\n",
            "Elapsed time: 1554.947667ms.\n",
            "Elapsed time: 1653.5086450000001ms.\n",
            "Elapsed time: 1525.6326179999999ms.\n",
            "Elapsed time: 1547.534674ms.\n",
            "Elapsed time: 1530.165352ms.\n",
            "탐지된 물체가 없습니다.\n",
            "Elapsed time: 1543.2016500000002ms.\n",
            "Elapsed time: 1571.836862ms.\n",
            "Elapsed time: 1546.970565ms.\n",
            "Elapsed time: 1545.651567ms.\n",
            "Elapsed time: 1524.846925ms.\n",
            "Elapsed time: 1524.846925ms.\n",
            "Elapsed time: 1512.582007ms.\n",
            "Elapsed time: 1545.6729460000001ms.\n",
            "Elapsed time: 1534.1051590000002ms.\n",
            "탐지된 물체가 없습니다.\n",
            "Elapsed time: 1558.787057ms.\n",
            "Elapsed time: 1523.621833ms.\n",
            "Elapsed time: 1527.074337ms.\n",
            "Elapsed time: 1544.688061ms.\n",
            "Elapsed time: 1637.6287650000002ms.\n",
            "Elapsed time: 1530.408346ms.\n",
            "Elapsed time: 1577.190173ms.\n",
            "Elapsed time: 1552.98828ms.\n",
            "Elapsed time: 1552.98828ms.\n",
            "Elapsed time: 1560.500564ms.\n",
            "Elapsed time: 1684.3902959999998ms.\n",
            "Elapsed time: 1629.30169ms.\n",
            "Elapsed time: 1552.01513ms.\n",
            "Elapsed time: 1603.926183ms.\n",
            "Elapsed time: 1543.8106810000002ms.\n",
            "Elapsed time: 1543.8106810000002ms.\n",
            "Elapsed time: 1535.638142ms.\n",
            "Elapsed time: 1534.463626ms.\n",
            "Elapsed time: 1548.410356ms.\n",
            "Elapsed time: 1565.882459ms.\n",
            "Elapsed time: 1573.864951ms.\n",
            "Elapsed time: 1552.1078260000002ms.\n",
            "Elapsed time: 1543.999111ms.\n",
            "탐지된 물체가 없습니다.\n",
            "Elapsed time: 1546.5192430000002ms.\n",
            "Elapsed time: 1596.137223ms.\n",
            "Elapsed time: 1591.5051ms.\n",
            "Elapsed time: 1551.295713ms.\n",
            "Elapsed time: 1553.643166ms.\n",
            "Elapsed time: 1547.481188ms.\n",
            "탐지된 물체가 없습니다.\n",
            "Elapsed time: 1533.159294ms.\n",
            "Elapsed time: 1533.159294ms.\n",
            "Elapsed time: 1576.267788ms.\n",
            "Elapsed time: 1544.010898ms.\n",
            "Elapsed time: 1542.935661ms.\n",
            "탐지된 물체가 없습니다.\n",
            "탐지된 물체가 없습니다.\n",
            "탐지된 물체가 없습니다.\n",
            "탐지된 물체가 없습니다.\n",
            "Elapsed time: 1554.4069670000001ms.\n",
            "Elapsed time: 1627.597295ms.\n",
            "탐지된 물체가 없습니다.\n",
            "Elapsed time: 1545.28278ms.\n",
            "Elapsed time: 1528.81128ms.\n",
            "Elapsed time: 1546.8208590000002ms.\n",
            "Elapsed time: 1546.8208590000002ms.\n",
            "탐지된 물체가 없습니다.\n",
            "탐지된 물체가 없습니다.\n",
            "탐지된 물체가 없습니다.\n",
            "탐지된 물체가 없습니다.\n",
            "Elapsed time: 1545.877452ms.\n",
            "Elapsed time: 1611.485472ms.\n",
            "Elapsed time: 1546.7622119999999ms.\n",
            "Elapsed time: 1517.2175809999999ms.\n",
            "탐지된 물체가 없습니다.\n",
            "Elapsed time: 1542.999049ms.\n",
            "Elapsed time: 1517.5451440000002ms.\n",
            "Elapsed time: 1517.5451440000002ms.\n",
            "Elapsed time: 1534.115153ms.\n",
            "Elapsed time: 1534.115153ms.\n",
            "Elapsed time: 1532.690106ms.\n",
            "Elapsed time: 1532.690106ms.\n",
            "Elapsed time: 1542.410689ms.\n",
            "Elapsed time: 1571.169276ms.\n",
            "Elapsed time: 1530.582697ms.\n",
            "Elapsed time: 1530.582697ms.\n",
            "Elapsed time: 1551.861834ms.\n",
            "Elapsed time: 1544.847056ms.\n",
            "Elapsed time: 1597.9615860000001ms.\n",
            "Elapsed time: 1539.669738ms.\n",
            "탐지된 물체가 없습니다.\n",
            "Elapsed time: 1551.109563ms.\n",
            "Elapsed time: 1557.708852ms.\n",
            "Elapsed time: 1552.612812ms.\n",
            "Elapsed time: 1580.630979ms.\n",
            "Elapsed time: 1531.613204ms.\n",
            "Elapsed time: 1562.620378ms.\n",
            "Elapsed time: 1562.620378ms.\n",
            "Elapsed time: 1525.527784ms.\n",
            "Elapsed time: 1548.0372280000001ms.\n",
            "Elapsed time: 1554.186809ms.\n",
            "Elapsed time: 1561.189762ms.\n",
            "Elapsed time: 1537.1621440000001ms.\n",
            "Elapsed time: 1519.7085260000001ms.\n",
            "탐지된 물체가 없습니다.\n",
            "Elapsed time: 1530.36256ms.\n",
            "Elapsed time: 1530.36256ms.\n",
            "Elapsed time: 1547.70939ms.\n",
            "Elapsed time: 1562.1618580000002ms.\n",
            "Elapsed time: 1760.173773ms.\n",
            "Elapsed time: 1518.2387589999998ms.\n",
            "Elapsed time: 1586.470362ms.\n",
            "Elapsed time: 1557.8879000000002ms.\n",
            "Elapsed time: 1545.6646810000002ms.\n",
            "Elapsed time: 1544.8603460000002ms.\n",
            "Elapsed time: 1586.39059ms.\n",
            "탐지된 물체가 없습니다.\n",
            "탐지된 물체가 없습니다.\n",
            "Elapsed time: 1542.4082990000002ms.\n",
            "Elapsed time: 1548.646344ms.\n",
            "Elapsed time: 1509.101978ms.\n",
            "Elapsed time: 1536.417935ms.\n",
            "탐지된 물체가 없습니다.\n",
            "Elapsed time: 1518.616075ms.\n",
            "Elapsed time: 1522.262084ms.\n",
            "Elapsed time: 1537.4652179999998ms.\n",
            "Elapsed time: 1524.427787ms.\n",
            "Elapsed time: 1557.375089ms.\n",
            "탐지된 물체가 없습니다.\n",
            "탐지된 물체가 없습니다.\n",
            "Elapsed time: 1537.542424ms.\n",
            "Elapsed time: 1556.4461430000001ms.\n",
            "Elapsed time: 1571.1595570000002ms.\n",
            "Elapsed time: 1603.0163790000001ms.\n",
            "Elapsed time: 1552.983422ms.\n",
            "Elapsed time: 1492.816889ms.\n",
            "Elapsed time: 1528.684669ms.\n",
            "Elapsed time: 1628.2159709999999ms.\n",
            "Elapsed time: 1518.985331ms.\n",
            "탐지된 물체가 없습니다.\n",
            "탐지된 물체가 없습니다.\n",
            "Elapsed time: 1556.536991ms.\n",
            "탐지된 물체가 없습니다.\n",
            "Elapsed time: 1533.363611ms.\n",
            "탐지된 물체가 없습니다.\n",
            "탐지된 물체가 없습니다.\n"
          ]
        }
      ]
    }
  ],
  "metadata": {
    "accelerator": "GPU",
    "colab": {
      "provenance": [],
      "collapsed_sections": []
    },
    "gpuClass": "premium",
    "kernelspec": {
      "display_name": "Python 3",
      "name": "python3"
    },
    "language_info": {
      "name": "python"
    }
  },
  "nbformat": 4,
  "nbformat_minor": 0
}